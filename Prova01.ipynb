{
 "cells": [
  {
   "cell_type": "code",
   "execution_count": 9,
   "id": "74bbe74d-9b52-4fb1-98a6-93abd2f671f0",
   "metadata": {},
   "outputs": [],
   "source": [
    "class No:\n",
    "    def __init__(self, valor):\n",
    "        self.valor = valor\n",
    "        self.proximo = None"
   ]
  },
  {
   "cell_type": "code",
   "execution_count": 10,
   "id": "38298cfb-a613-414a-99a3-c6c4ff31cd2e",
   "metadata": {},
   "outputs": [],
   "source": [
    "class ListaEncadeada:\n",
    "    def __init__(self):\n",
    "        self.inicio = None\n",
    "\n",
    "    def inserir(self, valor):\n",
    "        novo_numero = No(valor)\n",
    "        if self.inicio is None:\n",
    "            self.inicio = novo_numero\n",
    "        else:\n",
    "            atual = self.inicio\n",
    "            while atual.proximo:\n",
    "                atual = atual.proximo\n",
    "            atual.proximo = novo_numero\n",
    "\n",
    "    def contar(self):\n",
    "        contador = 0\n",
    "        atual = self.inicio\n",
    "        while atual is not None:\n",
    "            contador += 1\n",
    "            atual = atual.proximo\n",
    "        return contador"
   ]
  },
  {
   "cell_type": "code",
   "execution_count": 13,
   "id": "c6c5999e-1d6f-46ac-a3c9-e7f4a2521aee",
   "metadata": {},
   "outputs": [],
   "source": [
    "#Inserção da Lista encadeada\n",
    "lista = ListaEncadeada()\n",
    "lista.inserir(5)\n",
    "lista.inserir(146)\n",
    "lista.inserir(258)\n",
    "lista.inserir(252)\n",
    "lista.inserir(155)\n",
    "lista.inserir(27)\n",
    "lista.inserir(225)\n"
   ]
  },
  {
   "cell_type": "code",
   "execution_count": 14,
   "id": "76557ddc-c13e-42ab-a3c5-dd80df199197",
   "metadata": {},
   "outputs": [
    {
     "name": "stdout",
     "output_type": "stream",
     "text": [
      "7\n"
     ]
    }
   ],
   "source": [
    "# Contando o número de elementos:\n",
    "print(lista.contar()) "
   ]
  },
  {
   "cell_type": "code",
   "execution_count": null,
   "id": "fd7a8e66-b571-4d3c-84b2-12c1236d68e0",
   "metadata": {},
   "outputs": [],
   "source": []
  }
 ],
 "metadata": {
  "kernelspec": {
   "display_name": "Python 3 (ipykernel)",
   "language": "python",
   "name": "python3"
  },
  "language_info": {
   "codemirror_mode": {
    "name": "ipython",
    "version": 3
   },
   "file_extension": ".py",
   "mimetype": "text/x-python",
   "name": "python",
   "nbconvert_exporter": "python",
   "pygments_lexer": "ipython3",
   "version": "3.12.4"
  }
 },
 "nbformat": 4,
 "nbformat_minor": 5
}
